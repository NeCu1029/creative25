{
 "cells": [
  {
   "cell_type": "code",
   "execution_count": null,
   "id": "184820f4",
   "metadata": {},
   "outputs": [],
   "source": [
    "import pandas as pd\n",
    "\n",
    "def load_data(idx: int) -> tuple[pd.DataFrame, pd.DataFrame]:\n",
    "    data = pd.read_csv(f\"C:/Users/ljw10/Desktop/LeeJunWoo/gshs/contest/creative25/data/{idx}.csv\")\n",
    "    label = pd.read_csv(f\"C:/Users/ljw10/Desktop/LeeJunWoo/gshs/contest/creative25/label/{idx}.csv\")\n",
    "    data.fillna(0, inplace=True)\n",
    "\n",
    "    return (data, label)"
   ]
  },
  {
   "cell_type": "code",
   "execution_count": null,
   "id": "3bee5032",
   "metadata": {},
   "outputs": [],
   "source": [
    "import torch\n",
    "\n",
    "def data_to_tensor(data: pd.DataFrame) -> torch.Tensor:\n",
    "    d_lon, d_lat = (data.iloc[-1] - data.iloc[0])[[\"lon\", \"lat\"]] * 2 + 1\n",
    "    d_lon, d_lat = int(d_lon), int(d_lat)\n",
    "\n",
    "    res = torch.zeros(4, d_lon, d_lat, dtype=torch.float32)\n",
    "    pixels = torch.tensor(data[\"pixels\"].values, dtype=torch.float32)\n",
    "    vx = torch.tensor(data[\"vx\"].values, dtype=torch.float32)\n",
    "    vy = torch.tensor(data[\"vy\"].values, dtype=torch.float32)\n",
    "    hum = torch.tensor(data[\"hum\"].values, dtype=torch.float32)\n",
    "\n",
    "    row = torch.arange(d_lon * d_lat) // d_lat\n",
    "    col = torch.arange(d_lon * d_lat) % d_lat\n",
    "    res[0, row, col] = pixels\n",
    "    res[1, row, col] = vx\n",
    "    res[2, row, col] = vy\n",
    "    res[3, row, col] = hum\n",
    "    return res"
   ]
  },
  {
   "cell_type": "code",
   "execution_count": null,
   "id": "88369fac",
   "metadata": {},
   "outputs": [],
   "source": [
    "def label_to_tensor(label: pd.DataFrame) -> torch.Tensor:\n",
    "    min_lon, min_lat = label[\"lon\"].min(), label[\"lat\"].min()\n",
    "    d_lon, d_lat = (label[\"lon\"].max() - label[\"lon\"].min()) * 2 + 1, (label[\"lat\"].max() - label[\"lat\"].min()) * 2 + 1\n",
    "    d_lon, d_lat = int(d_lon), int(d_lat)\n",
    "\n",
    "    res = torch.zeros(d_lon, d_lat, dtype=torch.float32)\n",
    "    for i in label.itertuples():\n",
    "        res[int((i.lon - min_lon) * 2), int((i.lat - min_lat) * 2)] = i.pixels  # type: ignore\n",
    "\n",
    "    return res"
   ]
  },
  {
   "cell_type": "code",
   "execution_count": null,
   "id": "a360a2ee",
   "metadata": {},
   "outputs": [],
   "source": [
    "def data_compose(idx: int) -> tuple[torch.Tensor, torch.Tensor, int, int] | None:\n",
    "    data, label = load_data(idx)\n",
    "    dmilon, dmilat = data.iloc[0][[\"lon\", \"lat\"]] * 2\n",
    "    dmalon, dmalat = data.iloc[-1][[\"lon\", \"lat\"]] * 2\n",
    "    lmilon, lmilat = label[\"lon\"].min() * 2, label[\"lat\"].min() * 2\n",
    "    lmalon, lmalat = label[\"lon\"].max() * 2, label[\"lat\"].max() * 2\n",
    "\n",
    "    min_lon, min_lat = min(dmilon, lmilon), min(dmilat, lmilat)\n",
    "    max_lon, max_lat = max(dmalon, lmalon), max(dmalat, lmalat)\n",
    "    if max_lon - min_lon > 24 or max_lat - min_lat > 24:\n",
    "        return None\n",
    "\n",
    "    tensor_data = data_to_tensor(data)\n",
    "    tensor_label = label_to_tensor(label)\n",
    "\n",
    "    res_data = torch.zeros(4, 25, 25, dtype=torch.float32)\n",
    "    res_data[:, int(dmilon - min_lon):int(dmalon - min_lon + 1), int(dmilat - min_lat):int(dmalat - min_lat + 1)] = tensor_data\n",
    "    res_label = torch.zeros(25, 25, dtype=torch.float32)\n",
    "    res_label[int(lmilon - min_lon):int(lmalon - min_lon + 1), int(lmilat - min_lat):int(lmalat - min_lat + 1)] = tensor_label\n",
    "    return (res_data, res_label, int(max_lon - min_lon + 1), int(max_lat - min_lat + 1))"
   ]
  },
  {
   "cell_type": "code",
   "execution_count": null,
   "id": "9092cb03",
   "metadata": {},
   "outputs": [],
   "source": [
    "import random\n",
    "\n",
    "def augment(data: torch.Tensor, label: torch.Tensor, lon_size: int, lat_size: int) -> list[torch.Tensor]:\n",
    "    lon_move = random.randint(0, 25 - lon_size)\n",
    "    lat_move = random.randint(0, 25 - lat_size)\n",
    "    res_data = torch.zeros(4, 25, 25, dtype=torch.float32)\n",
    "    res_label = torch.zeros(25, 25, dtype=torch.float32)\n",
    "\n",
    "    res_data[:, lon_move:(lon_move + lon_size), lat_move:(lat_move + lat_size)] = data[:, :lon_size, :lat_size]\n",
    "    res_label[lon_move:(lon_move + lon_size), lat_move:(lat_move + lat_size)] = label[:lon_size, :lat_size]\n",
    "    return [res_data, res_label]"
   ]
  },
  {
   "cell_type": "code",
   "execution_count": null,
   "id": "e4dea18b",
   "metadata": {},
   "outputs": [],
   "source": [
    "t1, t2, s1, s2 = data_compose(1)  # type: ignore\n",
    "d, l = augment(t1, t2, s1, s2)\n",
    "d2, l2 = d.reshape(1, 2500), l.reshape(1, 625)\n",
    "print(l2.shape)"
   ]
  },
  {
   "cell_type": "code",
   "execution_count": null,
   "id": "e13a23a3",
   "metadata": {},
   "outputs": [],
   "source": [
    "from torch import nn\n",
    "\n",
    "class Model(nn.Module):\n",
    "    def __init__(self):\n",
    "        super().__init__()\n",
    "        self.linear = nn.Sequential(\n",
    "            nn.Linear(2500, 100),\n",
    "            nn.ReLU(),\n",
    "            nn.Linear(100, 50),\n",
    "            nn.ReLU(),\n",
    "            nn.Linear(50, 625),\n",
    "            nn.ReLU(),\n",
    "        )\n",
    "    \n",
    "    def forward(self, x):\n",
    "        x = self.linear(x)\n",
    "        return x"
   ]
  },
  {
   "cell_type": "code",
   "execution_count": null,
   "id": "8c995e15",
   "metadata": {},
   "outputs": [],
   "source": [
    "def data_complete(batch_size: int, learn: bool) -> tuple[torch.Tensor, torch.Tensor]:\n",
    "    res_data = []\n",
    "    res_label = []\n",
    "    cnt = 0\n",
    "\n",
    "    while cnt < batch_size:\n",
    "        idx = random.randint(0, 130) if learn else random.randint(131, 179)\n",
    "        comp = data_compose(idx)\n",
    "        if not comp:\n",
    "            continue\n",
    "\n",
    "        t1, t2, s1, s2 = comp\n",
    "        data, label = augment(t1, t2, s1, s2)\n",
    "        res_data.append(data.reshape(1, 2500))\n",
    "        res_label.append(label.reshape(1, 625))\n",
    "        cnt += 1\n",
    "\n",
    "    return (torch.cat(res_data), torch.cat(res_label))"
   ]
  },
  {
   "cell_type": "code",
   "execution_count": null,
   "id": "6ca31b29",
   "metadata": {},
   "outputs": [],
   "source": [
    "from torch import optim\n",
    "from torch.utils.data import DataLoader, TensorDataset\n",
    "\n",
    "LR = 0.005\n",
    "\n",
    "model = Model()\n",
    "criterion = nn.CrossEntropyLoss()\n",
    "optimizer = optim.Adam(model.parameters(), lr=LR)\n",
    "history_learn = []\n",
    "history_test = []\n",
    "\n",
    "x_train, y_train = data_complete(2048, True)\n",
    "x_test, y_test = data_complete(512, False)\n",
    "train_dataset = TensorDataset(x_train, y_train)\n",
    "test_dataset = TensorDataset(x_test, y_test)\n",
    "train_loader = DataLoader(train_dataset, batch_size=64, shuffle=True)\n",
    "test_loader = DataLoader(test_dataset, batch_size=64, shuffle=False)\n",
    "\n",
    "for i in range(15):\n",
    "    model.train()\n",
    "    loss_sum1 = 0.0\n",
    "    for x_batch, y_batch in train_loader:\n",
    "        optimizer.zero_grad()\n",
    "        outs = model(x_batch)\n",
    "        loss = criterion(outs, y_batch)\n",
    "        with torch.no_grad():\n",
    "            loss_sum1 += loss\n",
    "        loss.backward()\n",
    "        optimizer.step()\n",
    "    \n",
    "    model.eval()\n",
    "    loss_sum2 = 0.0\n",
    "    with torch.no_grad():\n",
    "        for x_batch, y_batch in test_loader:\n",
    "            outs = model(x_batch)\n",
    "            loss_sum2 += criterion(outs, y_batch)\n",
    "    \n",
    "    history_learn.append(loss_sum1)\n",
    "    history_test.append(loss_sum2)\n",
    "    print(i, end=' ')\n",
    "    if i % 20 == 19:\n",
    "        print()"
   ]
  },
  {
   "cell_type": "code",
   "execution_count": null,
   "id": "9b1ffb8d",
   "metadata": {},
   "outputs": [],
   "source": [
    "import matplotlib.pyplot as plt\n",
    "\n",
    "plt.plot(range(15), history_learn)\n",
    "plt.plot(range(15), history_test)\n",
    "plt.show()"
   ]
  },
  {
   "cell_type": "code",
   "execution_count": null,
   "id": "855d2a3d",
   "metadata": {},
   "outputs": [],
   "source": [
    "t1, t2, s1, s2 = data_compose(170)  # type: ignore\n",
    "tensor = t1[0]\n",
    "plt.figure(figsize=(24, 6))\n",
    "plt.subplot(1, 3, 1)\n",
    "plt.imshow(tensor.numpy(), cmap='Reds', aspect='auto')\n",
    "plt.colorbar()\n",
    "plt.title('Before')\n",
    "plt.xlabel('longitude')\n",
    "plt.ylabel('latitude')\n",
    "plt.xticks([], [])\n",
    "plt.yticks([], [])"
   ]
  },
  {
   "cell_type": "code",
   "execution_count": null,
   "id": "e0e23b58",
   "metadata": {},
   "outputs": [],
   "source": [
    "data = t1.reshape(1, 2500)\n",
    "tensor = model(data).reshape(25, 25).floor()\n",
    "\n",
    "plt.figure(figsize=(24, 6))\n",
    "plt.subplot(1, 3, 1)\n",
    "plt.imshow(tensor.detach().numpy(), cmap='Reds', aspect='auto')\n",
    "plt.colorbar()\n",
    "plt.title('After')\n",
    "plt.xlabel('longitude')\n",
    "plt.ylabel('latitude')\n",
    "plt.xticks([], [])\n",
    "plt.yticks([], [])"
   ]
  },
  {
   "cell_type": "code",
   "execution_count": null,
   "id": "bbfc65e6",
   "metadata": {},
   "outputs": [],
   "source": [
    "plt.figure(figsize=(24, 6))\n",
    "plt.subplot(1, 3, 1)\n",
    "plt.imshow(t2.numpy(), cmap='Reds', aspect='auto')\n",
    "plt.colorbar()\n",
    "plt.title('Before')\n",
    "plt.xlabel('longitude')\n",
    "plt.ylabel('latitude')\n",
    "plt.xticks([], [])\n",
    "plt.yticks([], [])"
   ]
  }
 ],
 "metadata": {
  "kernelspec": {
   "display_name": "Python 3",
   "language": "python",
   "name": "python3"
  },
  "language_info": {
   "codemirror_mode": {
    "name": "ipython",
    "version": 3
   },
   "file_extension": ".py",
   "mimetype": "text/x-python",
   "name": "python",
   "nbconvert_exporter": "python",
   "pygments_lexer": "ipython3",
   "version": "3.13.5"
  }
 },
 "nbformat": 4,
 "nbformat_minor": 5
}
